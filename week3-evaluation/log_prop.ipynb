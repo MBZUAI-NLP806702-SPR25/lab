{
 "cells": [
  {
   "cell_type": "markdown",
   "metadata": {},
   "source": [
    "# The Inner Workings: Probability/Likelihood Analysis"
   ]
  },
  {
   "cell_type": "markdown",
   "metadata": {},
   "source": [
    "## Introduction\n",
    "How do we solve an NLU task using a generative model without finetuning?\n",
    "\n",
    "### Prediction Equation\n",
    "\n",
    "Given a set of potential labels $L = \\{l_1, l_2, \\dots, l_n\\}$ and their corresponding probabilities $P = \\{p_1, p_2, \\dots, p_n\\}$, the predicted label $\\hat{y}$ is the label with the highest probability:\n",
    "\n",
    "$$\n",
    "\\hat{y} = \\underset{l_i \\in L}{\\arg\\max} \\, p_i\n",
    "$$\n",
    "\n",
    "Where:\n",
    "- $\\hat{y}$ is the predicted label.\n",
    "- $l_i$ is a potential label.\n",
    "- $p_i$ is the probability of label $l_i$.\n",
    "- $\\arg\\max$ selects the label $l_i$ that maximizes $p_i$.\n",
    "\n",
    "\n",
    "If you are familiar with probability, you are selecting the label sequence with the highest likelihood given the task and input."
   ]
  },
  {
   "cell_type": "markdown",
   "metadata": {
    "vscode": {
     "languageId": "plaintext"
    }
   },
   "source": [
    "## Install Dependencies"
   ]
  },
  {
   "cell_type": "code",
   "execution_count": 1,
   "metadata": {},
   "outputs": [
    {
     "name": "stdout",
     "output_type": "stream",
     "text": [
      "Requirement already satisfied: transformers in /share03/afz225/miniconda3/envs/madar/lib/python3.10/site-packages (4.46.3)\n",
      "Requirement already satisfied: filelock in /share03/afz225/miniconda3/envs/madar/lib/python3.10/site-packages (from transformers) (3.16.1)\n",
      "Requirement already satisfied: huggingface-hub<1.0,>=0.23.2 in /share03/afz225/miniconda3/envs/madar/lib/python3.10/site-packages (from transformers) (0.24.2)\n",
      "Requirement already satisfied: numpy>=1.17 in /share03/afz225/miniconda3/envs/madar/lib/python3.10/site-packages (from transformers) (2.1.3)\n",
      "Requirement already satisfied: packaging>=20.0 in /share03/afz225/miniconda3/envs/madar/lib/python3.10/site-packages (from transformers) (24.2)\n",
      "Requirement already satisfied: pyyaml>=5.1 in /share03/afz225/miniconda3/envs/madar/lib/python3.10/site-packages (from transformers) (6.0.1)\n",
      "Requirement already satisfied: regex!=2019.12.17 in /share03/afz225/miniconda3/envs/madar/lib/python3.10/site-packages (from transformers) (2024.7.24)\n",
      "Requirement already satisfied: requests in /share03/afz225/miniconda3/envs/madar/lib/python3.10/site-packages (from transformers) (2.32.3)\n",
      "Requirement already satisfied: tokenizers<0.21,>=0.20 in /share03/afz225/miniconda3/envs/madar/lib/python3.10/site-packages (from transformers) (0.20.3)\n",
      "Requirement already satisfied: safetensors>=0.4.1 in /share03/afz225/miniconda3/envs/madar/lib/python3.10/site-packages (from transformers) (0.4.3)\n",
      "Requirement already satisfied: tqdm>=4.27 in /share03/afz225/miniconda3/envs/madar/lib/python3.10/site-packages (from transformers) (4.67.1)\n",
      "Requirement already satisfied: fsspec>=2023.5.0 in /share03/afz225/miniconda3/envs/madar/lib/python3.10/site-packages (from huggingface-hub<1.0,>=0.23.2->transformers) (2024.9.0)\n",
      "Requirement already satisfied: typing-extensions>=3.7.4.3 in /share03/afz225/miniconda3/envs/madar/lib/python3.10/site-packages (from huggingface-hub<1.0,>=0.23.2->transformers) (4.12.2)\n",
      "Requirement already satisfied: charset-normalizer<4,>=2 in /share03/afz225/miniconda3/envs/madar/lib/python3.10/site-packages (from requests->transformers) (3.3.2)\n",
      "Requirement already satisfied: idna<4,>=2.5 in /share03/afz225/miniconda3/envs/madar/lib/python3.10/site-packages (from requests->transformers) (3.7)\n",
      "Requirement already satisfied: urllib3<3,>=1.21.1 in /share03/afz225/miniconda3/envs/madar/lib/python3.10/site-packages (from requests->transformers) (2.2.2)\n",
      "Requirement already satisfied: certifi>=2017.4.17 in /share03/afz225/miniconda3/envs/madar/lib/python3.10/site-packages (from requests->transformers) (2024.8.30)\n",
      "Requirement already satisfied: torch in /share03/afz225/miniconda3/envs/madar/lib/python3.10/site-packages (2.5.1)\n",
      "Requirement already satisfied: filelock in /share03/afz225/miniconda3/envs/madar/lib/python3.10/site-packages (from torch) (3.16.1)\n",
      "Requirement already satisfied: typing-extensions>=4.8.0 in /share03/afz225/miniconda3/envs/madar/lib/python3.10/site-packages (from torch) (4.12.2)\n",
      "Requirement already satisfied: networkx in /share03/afz225/miniconda3/envs/madar/lib/python3.10/site-packages (from torch) (3.4.2)\n",
      "Requirement already satisfied: jinja2 in /share03/afz225/miniconda3/envs/madar/lib/python3.10/site-packages (from torch) (3.1.4)\n",
      "Requirement already satisfied: fsspec in /share03/afz225/miniconda3/envs/madar/lib/python3.10/site-packages (from torch) (2024.9.0)\n",
      "Requirement already satisfied: nvidia-cuda-nvrtc-cu12==12.4.127 in /share03/afz225/miniconda3/envs/madar/lib/python3.10/site-packages (from torch) (12.4.127)\n",
      "Requirement already satisfied: nvidia-cuda-runtime-cu12==12.4.127 in /share03/afz225/miniconda3/envs/madar/lib/python3.10/site-packages (from torch) (12.4.127)\n",
      "Requirement already satisfied: nvidia-cuda-cupti-cu12==12.4.127 in /share03/afz225/miniconda3/envs/madar/lib/python3.10/site-packages (from torch) (12.4.127)\n",
      "Requirement already satisfied: nvidia-cudnn-cu12==9.1.0.70 in /share03/afz225/miniconda3/envs/madar/lib/python3.10/site-packages (from torch) (9.1.0.70)\n",
      "Requirement already satisfied: nvidia-cublas-cu12==12.4.5.8 in /share03/afz225/miniconda3/envs/madar/lib/python3.10/site-packages (from torch) (12.4.5.8)\n",
      "Requirement already satisfied: nvidia-cufft-cu12==11.2.1.3 in /share03/afz225/miniconda3/envs/madar/lib/python3.10/site-packages (from torch) (11.2.1.3)\n",
      "Requirement already satisfied: nvidia-curand-cu12==10.3.5.147 in /share03/afz225/miniconda3/envs/madar/lib/python3.10/site-packages (from torch) (10.3.5.147)\n",
      "Requirement already satisfied: nvidia-cusolver-cu12==11.6.1.9 in /share03/afz225/miniconda3/envs/madar/lib/python3.10/site-packages (from torch) (11.6.1.9)\n",
      "Requirement already satisfied: nvidia-cusparse-cu12==12.3.1.170 in /share03/afz225/miniconda3/envs/madar/lib/python3.10/site-packages (from torch) (12.3.1.170)\n",
      "Requirement already satisfied: nvidia-nccl-cu12==2.21.5 in /share03/afz225/miniconda3/envs/madar/lib/python3.10/site-packages (from torch) (2.21.5)\n",
      "Requirement already satisfied: nvidia-nvtx-cu12==12.4.127 in /share03/afz225/miniconda3/envs/madar/lib/python3.10/site-packages (from torch) (12.4.127)\n",
      "Requirement already satisfied: nvidia-nvjitlink-cu12==12.4.127 in /share03/afz225/miniconda3/envs/madar/lib/python3.10/site-packages (from torch) (12.4.127)\n",
      "Requirement already satisfied: triton==3.1.0 in /share03/afz225/miniconda3/envs/madar/lib/python3.10/site-packages (from torch) (3.1.0)\n",
      "Requirement already satisfied: sympy==1.13.1 in /share03/afz225/miniconda3/envs/madar/lib/python3.10/site-packages (from torch) (1.13.1)\n",
      "Requirement already satisfied: mpmath<1.4,>=1.1.0 in /share03/afz225/miniconda3/envs/madar/lib/python3.10/site-packages (from sympy==1.13.1->torch) (1.3.0)\n",
      "Requirement already satisfied: MarkupSafe>=2.0 in /share03/afz225/miniconda3/envs/madar/lib/python3.10/site-packages (from jinja2->torch) (3.0.2)\n"
     ]
    }
   ],
   "source": [
    "!pip install transformers\n",
    "!pip install torch"
   ]
  },
  {
   "cell_type": "markdown",
   "metadata": {},
   "source": [
    "### Step 2: Import Libraries\n",
    "\n",
    "Import the required libraries for the notebook."
   ]
  },
  {
   "cell_type": "code",
   "execution_count": 2,
   "metadata": {},
   "outputs": [],
   "source": [
    "import torch\n",
    "from transformers import GPT2LMHeadModel, GPT2Tokenizer"
   ]
  },
  {
   "cell_type": "markdown",
   "metadata": {},
   "source": [
    "### Step 3: Load the Pre-trained Generative Model\n",
    "\n",
    "Load a pre-trained generative model (e.g., GPT-2) and its tokenizer."
   ]
  },
  {
   "cell_type": "code",
   "execution_count": 3,
   "metadata": {},
   "outputs": [
    {
     "data": {
      "application/vnd.jupyter.widget-view+json": {
       "model_id": "a6af4a6a06334632aed69372011e193c",
       "version_major": 2,
       "version_minor": 0
      },
      "text/plain": [
       "config.json:   0%|          | 0.00/665 [00:00<?, ?B/s]"
      ]
     },
     "metadata": {},
     "output_type": "display_data"
    },
    {
     "data": {
      "application/vnd.jupyter.widget-view+json": {
       "model_id": "1bdebcfc1b2c4befbb0bc139bae491e1",
       "version_major": 2,
       "version_minor": 0
      },
      "text/plain": [
       "model.safetensors:   0%|          | 0.00/548M [00:00<?, ?B/s]"
      ]
     },
     "metadata": {},
     "output_type": "display_data"
    },
    {
     "data": {
      "application/vnd.jupyter.widget-view+json": {
       "model_id": "fbae95b60b1a4005903f3e98b7eb9ea6",
       "version_major": 2,
       "version_minor": 0
      },
      "text/plain": [
       "generation_config.json:   0%|          | 0.00/124 [00:00<?, ?B/s]"
      ]
     },
     "metadata": {},
     "output_type": "display_data"
    },
    {
     "data": {
      "application/vnd.jupyter.widget-view+json": {
       "model_id": "cd7ea4bf9d9b446893a6817dd4c2f27a",
       "version_major": 2,
       "version_minor": 0
      },
      "text/plain": [
       "tokenizer_config.json:   0%|          | 0.00/26.0 [00:00<?, ?B/s]"
      ]
     },
     "metadata": {},
     "output_type": "display_data"
    },
    {
     "data": {
      "application/vnd.jupyter.widget-view+json": {
       "model_id": "93b9792e5d6b4d7ba2a8bb0b39dc3185",
       "version_major": 2,
       "version_minor": 0
      },
      "text/plain": [
       "vocab.json:   0%|          | 0.00/1.04M [00:00<?, ?B/s]"
      ]
     },
     "metadata": {},
     "output_type": "display_data"
    },
    {
     "data": {
      "application/vnd.jupyter.widget-view+json": {
       "model_id": "26844a52e9eb4f9b988eefed4c795553",
       "version_major": 2,
       "version_minor": 0
      },
      "text/plain": [
       "merges.txt:   0%|          | 0.00/456k [00:00<?, ?B/s]"
      ]
     },
     "metadata": {},
     "output_type": "display_data"
    },
    {
     "data": {
      "application/vnd.jupyter.widget-view+json": {
       "model_id": "b3070c01c2e24c0383c145e9efe0270a",
       "version_major": 2,
       "version_minor": 0
      },
      "text/plain": [
       "tokenizer.json:   0%|          | 0.00/1.36M [00:00<?, ?B/s]"
      ]
     },
     "metadata": {},
     "output_type": "display_data"
    },
    {
     "data": {
      "text/plain": [
       "GPT2LMHeadModel(\n",
       "  (transformer): GPT2Model(\n",
       "    (wte): Embedding(50257, 768)\n",
       "    (wpe): Embedding(1024, 768)\n",
       "    (drop): Dropout(p=0.1, inplace=False)\n",
       "    (h): ModuleList(\n",
       "      (0-11): 12 x GPT2Block(\n",
       "        (ln_1): LayerNorm((768,), eps=1e-05, elementwise_affine=True)\n",
       "        (attn): GPT2SdpaAttention(\n",
       "          (c_attn): Conv1D(nf=2304, nx=768)\n",
       "          (c_proj): Conv1D(nf=768, nx=768)\n",
       "          (attn_dropout): Dropout(p=0.1, inplace=False)\n",
       "          (resid_dropout): Dropout(p=0.1, inplace=False)\n",
       "        )\n",
       "        (ln_2): LayerNorm((768,), eps=1e-05, elementwise_affine=True)\n",
       "        (mlp): GPT2MLP(\n",
       "          (c_fc): Conv1D(nf=3072, nx=768)\n",
       "          (c_proj): Conv1D(nf=768, nx=3072)\n",
       "          (act): NewGELUActivation()\n",
       "          (dropout): Dropout(p=0.1, inplace=False)\n",
       "        )\n",
       "      )\n",
       "    )\n",
       "    (ln_f): LayerNorm((768,), eps=1e-05, elementwise_affine=True)\n",
       "  )\n",
       "  (lm_head): Linear(in_features=768, out_features=50257, bias=False)\n",
       ")"
      ]
     },
     "execution_count": 3,
     "metadata": {},
     "output_type": "execute_result"
    }
   ],
   "source": [
    "# Load the GPT-2 model and tokenizer\n",
    "model_name = \"gpt2\"\n",
    "model = GPT2LMHeadModel.from_pretrained(model_name)\n",
    "tokenizer = GPT2Tokenizer.from_pretrained(model_name)\n",
    "\n",
    "# Set the model to evaluation mode\n",
    "model.eval()"
   ]
  },
  {
   "cell_type": "markdown",
   "metadata": {},
   "source": [
    "### Step 4: Define the Task, Prompt, and Input\n",
    "\n",
    "Define the task, prompt, and input(s) for the model. For example, let's say the task is to classify a sentence as \"Positive\" or \"Negative\"."
   ]
  },
  {
   "cell_type": "code",
   "execution_count": 4,
   "metadata": {},
   "outputs": [
    {
     "name": "stdout",
     "output_type": "stream",
     "text": [
      "Prompt: Classify the following sentence as 'Positive' or 'Negative': I had a wonderful day at the park!\n"
     ]
    }
   ],
   "source": [
    "# Define the task, prompt, and input\n",
    "task = \"Classify the following sentence as 'Positive' or 'Negative':\"\n",
    "input_sentence = \"I had a wonderful day at the park!\"\n",
    "prompt = f\"{task} {input_sentence}\"\n",
    "\n",
    "print(\"Prompt:\", prompt)"
   ]
  },
  {
   "cell_type": "markdown",
   "metadata": {},
   "source": [
    "### Step 5: Tokenize the Input and Generate Output\n",
    "\n",
    "Tokenize the input and generate output using the generative model."
   ]
  },
  {
   "cell_type": "code",
   "execution_count": 5,
   "metadata": {},
   "outputs": [
    {
     "name": "stderr",
     "output_type": "stream",
     "text": [
      "The attention mask and the pad token id were not set. As a consequence, you may observe unexpected behavior. Please pass your input's `attention_mask` to obtain reliable results.\n",
      "Setting `pad_token_id` to `eos_token_id`:None for open-end generation.\n",
      "The attention mask is not set and cannot be inferred from input because pad token is same as eos token. As a consequence, you may observe unexpected behavior. Please pass your input's `attention_mask` to obtain reliable results.\n"
     ]
    },
    {
     "name": "stdout",
     "output_type": "stream",
     "text": [
      "Generated Text: Classify the following sentence as 'Positive' or 'Negative': I had a wonderful day at the park!\n",
      "\n",
      "I had a wonderful day at the park!\n",
      "\n",
      "I had a wonderful day at the park!\n",
      "\n",
      "I had\n"
     ]
    }
   ],
   "source": [
    "# Tokenize the input\n",
    "input_ids = tokenizer.encode(prompt, return_tensors=\"pt\")\n",
    "\n",
    "# Generate output\n",
    "with torch.no_grad():\n",
    "    output = model.generate(input_ids, max_length=50, num_return_sequences=1, output_scores=True, return_dict_in_generate=True)\n",
    "\n",
    "# Decode the generated output\n",
    "generated_text = tokenizer.decode(output.sequences[0], skip_special_tokens=True)\n",
    "print(\"Generated Text:\", generated_text)"
   ]
  },
  {
   "cell_type": "markdown",
   "metadata": {},
   "source": [
    "### Step 6: Extract Probabilities for Potential Labels\n",
    "\n",
    "Extract the probabilities for the potential labels (e.g., \"Positive\" and \"Negative\") from the model's output."
   ]
  },
  {
   "cell_type": "code",
   "execution_count": 15,
   "metadata": {},
   "outputs": [
    {
     "name": "stdout",
     "output_type": "stream",
     "text": [
      "Label: Positive, Label ID: 21604\n",
      "Label: Negative, Label ID: 32863\n",
      "Label Probabilities: {'Positive': 5.594800313701853e-05, 'Negative': 2.919611006291234e-06}\n"
     ]
    }
   ],
   "source": [
    "# Define potential labels\n",
    "potential_labels = [\"Positive\", \"Negative\"]\n",
    "\n",
    "# Get the logits for the next token after the input\n",
    "logits = output.scores[0][0]\n",
    "\n",
    "# Convert logits to probabilities\n",
    "probs = torch.softmax(logits, dim=-1)\n",
    "\n",
    "# Get the probabilities for the potential labels\n",
    "label_probs = {}\n",
    "for label in potential_labels:\n",
    "    label_id = tokenizer.encode(label, return_tensors=\"pt\")[0][0]\n",
    "    print(f'Label: {label}, Label ID: {label_id}')\n",
    "    label_probs[label] = probs[label_id].item()\n",
    "\n",
    "print(\"Label Probabilities:\", label_probs)"
   ]
  },
  {
   "cell_type": "markdown",
   "metadata": {},
   "source": [
    "### Step 7: Evaluate the Model\n",
    "\n",
    "Evaluate the model by comparing the probabilities of the potential labels. The label with the highest probability is the predicted label.\n",
    "\n"
   ]
  },
  {
   "cell_type": "code",
   "execution_count": 9,
   "metadata": {},
   "outputs": [
    {
     "name": "stdout",
     "output_type": "stream",
     "text": [
      "Predicted Label: Positive\n",
      "Ground Truth: Positive\n",
      "Correct Prediction: True\n"
     ]
    }
   ],
   "source": [
    "# Get the predicted label\n",
    "predicted_label = max(label_probs, key=label_probs.get)\n",
    "print(\"Predicted Label:\", predicted_label)\n",
    "\n",
    "# Compare with the ground truth (if available)\n",
    "ground_truth = \"Positive\"\n",
    "print(\"Ground Truth:\", ground_truth)\n",
    "print(\"Correct Prediction:\", predicted_label == ground_truth)"
   ]
  },
  {
   "cell_type": "markdown",
   "metadata": {},
   "source": [
    "### Step 8: Visualize the Results\n",
    "\n",
    "Visualize the probabilities of the potential labels using a bar plot."
   ]
  },
  {
   "cell_type": "code",
   "execution_count": 11,
   "metadata": {},
   "outputs": [
    {
     "data": {
      "image/png": "[encoded data removed]",
      "text/plain": [
       "<Figure size 640x480 with 1 Axes>"
      ]
     },
     "metadata": {},
     "output_type": "display_data"
    }
   ],
   "source": [
    "import matplotlib.pyplot as plt\n",
    "\n",
    "# Plot the probabilities\n",
    "plt.bar(label_probs.keys(), label_probs.values())\n",
    "plt.xlabel(\"Labels\")\n",
    "plt.ylabel(\"Probability\")\n",
    "plt.title(\"Probabilities of Potential Labels\")\n",
    "plt.show()"
   ]
  },
  {
   "cell_type": "markdown",
   "metadata": {},
   "source": [
    "### Step 9: Experiment with Different Inputs"
   ]
  },
  {
   "cell_type": "code",
   "execution_count": 12,
   "metadata": {},
   "outputs": [],
   "source": [
    "# Example: Try a different input sentence\n",
    "input_sentence = \"I feel terrible about what happened.\"\n",
    "prompt = f\"{task} {input_sentence}\"\n",
    "\n",
    "# Repeat Steps 5-7 to generate and evaluate the output"
   ]
  },
  {
   "cell_type": "markdown",
   "metadata": {},
   "source": [
    "## Questions:\n",
    "1. What if my labels/targets are more than one token?"
   ]
  },
  {
   "cell_type": "code",
   "execution_count": 17,
   "metadata": {},
   "outputs": [
    {
     "name": "stdout",
     "output_type": "stream",
     "text": [
      "Joint Probabilities for Multi-Token Labels (with EOS): {'Very Positive': 3.577389654561771e-11, 'Not Negative': 2.594454815851032e-11, 'Neutral': 8.965088374115351e-10}\n",
      "Predicted Label: Neutral\n"
     ]
    }
   ],
   "source": [
    "# Define multi-token labels with EOS\n",
    "potential_labels = [\"Very Positive\", \"Not Negative\", \"Neutral\"]\n",
    "\n",
    "# Add EOS token to each label\n",
    "eos_token = tokenizer.eos_token\n",
    "potential_labels = [label + eos_token for label in potential_labels]\n",
    "\n",
    "# Function to compute the joint probability of a multi-token label with EOS\n",
    "def compute_joint_probability_with_eos(label, model, tokenizer, input_ids):\n",
    "    # Tokenize the label\n",
    "    label_ids = tokenizer.encode(label, return_tensors=\"pt\")[0]\n",
    "    \n",
    "    # Initialize joint probability\n",
    "    joint_prob = 1.0\n",
    "    \n",
    "    # Iterate through the tokens of the label\n",
    "    for i, token_id in enumerate(label_ids):\n",
    "        # Get the logits for the next token\n",
    "        with torch.no_grad():\n",
    "            outputs = model(input_ids)\n",
    "            logits = outputs.logits[0, -1, :]  # Logits for the next token\n",
    "        \n",
    "        # Compute the probability of the current token in the label\n",
    "        probs = torch.softmax(logits, dim=-1)\n",
    "        token_prob = probs[token_id].item()\n",
    "        \n",
    "        # Update the joint probability\n",
    "        joint_prob *= token_prob\n",
    "        \n",
    "        \n",
    "        # Append the current token to the input_ids for the next prediction\n",
    "        input_ids = torch.cat([input_ids, token_id.unsqueeze(0).unsqueeze(0)], dim=1)\n",
    "    \n",
    "    return joint_prob\n",
    "\n",
    "# Compute joint probabilities for all potential labels\n",
    "label_probs = {}\n",
    "for label in potential_labels:\n",
    "    joint_prob = compute_joint_probability_with_eos(label, model, tokenizer, input_ids)\n",
    "    label_probs[label.replace(eos_token, \"\")] = joint_prob  # Remove EOS for readability\n",
    "\n",
    "print(\"Joint Probabilities for Multi-Token Labels (with EOS):\", label_probs)\n",
    "\n",
    "# Get the predicted label\n",
    "predicted_label = max(label_probs, key=label_probs.get)\n",
    "print(\"Predicted Label:\", predicted_label)"
   ]
  },
  {
   "cell_type": "markdown",
   "metadata": {},
   "source": [
    "2. What if we have a really long target sequence and the probability becomes near 0? \\[HINT: The name of this file.\\]\n",
    "3. Are there any shortcuts you think we can take?\n",
    "4. What metrics do you think we can use for evaluating these predictions? What are the pros and cons?\n",
    "5. How would generative tasks be evaluated?"
   ]
  }
 ],
 "metadata": {
  "kernelspec": {
   "display_name": "madar",
   "language": "python",
   "name": "madar"
  },
  "language_info": {
   "codemirror_mode": {
    "name": "ipython",
    "version": 3
   },
   "file_extension": ".py",
   "mimetype": "text/x-python",
   "name": "python",
   "nbconvert_exporter": "python",
   "pygments_lexer": "ipython3",
   "version": "3.10.14"
  }
 },
 "nbformat": 4,
 "nbformat_minor": 2
}
